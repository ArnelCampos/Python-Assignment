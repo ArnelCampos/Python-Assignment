{
 "cells": [
  {
   "cell_type": "code",
   "execution_count": null,
   "id": "41575f3b",
   "metadata": {},
   "outputs": [
    {
     "name": "stdout",
     "output_type": "stream",
     "text": [
      "It is decidedly so.\n",
      "Stopping the Game.\n"
     ]
    }
   ],
   "source": [
    "import random\n",
    "\n",
    "#lists all my Answers\n",
    "myanswer_lists=['It is certain.', \n",
    "             'It is decidedly so.', \n",
    "             'Without a doubt.',\n",
    "             'Yes definitely.', \n",
    "             'You may rely on it.', \n",
    "             'As I see it, yes.',\n",
    "             'Most likely.',\n",
    "             'Outlook good.', \n",
    "             'Yes.', \n",
    "             'Signs point to yes.',\n",
    "             'Reply hazy, try again.', \n",
    "             'Ask again later.', \n",
    "             'Better not tell you now.',\n",
    "             'Cannot predict now.', \n",
    "             'Concentrate and ask again.',\n",
    "             \"Don't count on it.\", \n",
    "             'My reply is no.', \n",
    "             'My sources say no.', \n",
    "             'Outlook not so good.',\n",
    "             'Very doubtful.']\n",
    "#condition where we can add or ask question and to generate random answer base on my list that i made.\n",
    "while True:\n",
    "    myquestion=input(\"Ask the magic 8 ball a question: (press enter to quit) \")\n",
    "    if myquestion==\"\":\n",
    "        print(\"Stopping the Game.\")\n",
    "        break\n",
    "    myanswer_string=random.choice(myanswer_lists)\n",
    "    #print the answer\n",
    "    print(myanswer_string)"
   ]
  },
  {
   "cell_type": "code",
   "execution_count": null,
   "id": "18317cb4",
   "metadata": {},
   "outputs": [],
   "source": []
  }
 ],
 "metadata": {
  "kernelspec": {
   "display_name": "base",
   "language": "python",
   "name": "python3"
  },
  "language_info": {
   "codemirror_mode": {
    "name": "ipython",
    "version": 3
   },
   "file_extension": ".py",
   "mimetype": "text/x-python",
   "name": "python",
   "nbconvert_exporter": "python",
   "pygments_lexer": "ipython3",
   "version": "3.12.7"
  }
 },
 "nbformat": 4,
 "nbformat_minor": 5
}
