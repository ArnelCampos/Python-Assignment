{
 "cells": [
  {
   "cell_type": "code",
   "execution_count": null,
   "id": "758b4096",
   "metadata": {},
   "outputs": [
    {
     "name": "stdout",
     "output_type": "stream",
     "text": [
      "fizzbuzz\n",
      "1\n",
      "2\n",
      "fizz\n",
      "4\n",
      "buzz\n",
      "fizz\n",
      "7\n",
      "8\n",
      "fizz\n",
      "buzz\n",
      "11\n",
      "fizz\n",
      "13\n",
      "14\n",
      "fizzbuzz\n",
      "16\n",
      "17\n",
      "fizz\n",
      "19\n",
      "buzz\n",
      "fizz\n",
      "22\n",
      "23\n",
      "fizz\n",
      "buzz\n",
      "26\n",
      "fizz\n",
      "28\n",
      "29\n",
      "fizzbuzz\n",
      "31\n",
      "32\n",
      "fizz\n",
      "34\n",
      "buzz\n",
      "fizz\n",
      "37\n",
      "38\n",
      "fizz\n",
      "buzz\n",
      "41\n",
      "fizz\n",
      "43\n",
      "44\n",
      "fizzbuzz\n",
      "46\n",
      "47\n",
      "fizz\n",
      "49\n",
      "buzz\n"
     ]
    }
   ],
   "source": [
    "# Iterate through numbers from 0 to 100 using the range function\n",
    "for fizzbuzz in range(100):\n",
    "    # Check if the current number is divisible by both 3 and 5\n",
    "    if fizzbuzz % 3 == 0 and fizzbuzz % 5 == 0:\n",
    "        # If divisible by both 3 and 5, print \"fizzbuzz\" and continue to the next\n",
    "        print(\"fizzbuzz\")\n",
    "        continue\n",
    "    # Check if the current number is divisible only by 3\n",
    "    elif fizzbuzz % 3 == 0:\n",
    "        # If divisible only by 3, print \"fizz\" and continue to the next\n",
    "        print(\"fizz\")\n",
    "        continue\n",
    "    # Check if the current number is divisible only by 5\n",
    "    elif fizzbuzz % 5 == 0:\n",
    "        # If divisible only by 5, print \"buzz\" and continue to the next\n",
    "        print(\"buzz\")\n",
    "        continue\n",
    "    # If the number is neither divisible by 3 nor 5, print the number itself\n",
    "    print(fizzbuzz) "
   ]
  }
 ],
 "metadata": {
  "kernelspec": {
   "display_name": "base",
   "language": "python",
   "name": "python3"
  },
  "language_info": {
   "codemirror_mode": {
    "name": "ipython",
    "version": 3
   },
   "file_extension": ".py",
   "mimetype": "text/x-python",
   "name": "python",
   "nbconvert_exporter": "python",
   "pygments_lexer": "ipython3",
   "version": "3.12.7"
  }
 },
 "nbformat": 4,
 "nbformat_minor": 5
}
